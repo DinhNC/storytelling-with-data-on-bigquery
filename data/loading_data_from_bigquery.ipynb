{
 "cells": [
  {
   "cell_type": "code",
   "execution_count": null,
   "metadata": {},
   "outputs": [],
   "source": [
    "from google.cloud import bigquery\n",
    "import pandas as pd\n",
    "\n",
    "# Load data from BigQuery\n",
    "bigquery_project = 'BIGQUERY_PROJECT'\n",
    "service_account_json_path = \"YOUR_SERVICE_ACCOUNT_JSON_PATH\"\n",
    "# Create a BigQuery client\n",
    "client = bigquery.Client.from_service_account_json(service_account_json_path, project=bigquery_project)"
   ]
  },
  {
   "cell_type": "code",
   "execution_count": null,
   "metadata": {},
   "outputs": [],
   "source": [
    "\n",
    "# Define your SQL query to get total orders and total users for each month\n",
    "query = \"\"\"\n",
    "WITH raw AS\n",
    "(\n",
    "  SELECT\n",
    "    *\n",
    "FROM `PROJECT_ID.analytics_1234567890.events_*`\n",
    "LIMIT 100\n",
    "\"\"\"\n",
    "\n",
    "# Run the query and convert the result to a DataFrame\n",
    "df = client.query(query).to_dataframe()\n"
   ]
  },
  {
   "cell_type": "code",
   "execution_count": null,
   "metadata": {},
   "outputs": [],
   "source": [
    "# Show the first 10 rows\n",
    "df.head(10)\n",
    "# Save to CSV\n",
    "df.to_csv('data/data.csv', index=False)"
   ]
  }
 ],
 "metadata": {
  "language_info": {
   "name": "python"
  }
 },
 "nbformat": 4,
 "nbformat_minor": 2
}
